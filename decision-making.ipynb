{
  "metadata" : {
    "config" : {
      "dependencies" : {
        "scala" : [
          "org.apache.commons:commons-math3:3.6.1",
          "io.github.cibotech:evilplot:0.8.1"
        ]
      },
      "exclusions" : [
      ],
      "repositories" : [
        {
          "maven" : {
            "base" : "https://maven.imagej.net/content/repositories/public/"
          }
        }
      ],
      "sparkConfig" : {
        
      },
      "env" : {
        
      },
      "scalaVersion" : "2.12"
    },
    "language_info" : {
      "name" : "scala"
    }
  },
  "nbformat" : 4,
  "nbformat_minor" : 0,
  "cells" : [
    {
      "cell_type" : "markdown",
      "execution_count" : 0,
      "metadata" : {
        "language" : "text"
      },
      "language" : "text",
      "source" : [
        "# Probabilistic Decision Making vs. Statistical Significance\n",
        "\n",
        "\n",
        "This notebook will walk through a concrete set of experiments where you can see the effect of making a decision using null hypothesis significance testing (NHST) via statistical significance or probabilistic decision making via expected utility. At the end we'll see which provides the most value. In addition, you can see what happens over the long run if you make these sorts of decisions. For a nice intro to probabilistic decision making see [this short video](https://www.nytimes.com/video/business/100000004868264/making-choices-like-a-poker-champ.html?partner=slack&smid=sl-share).\n",
        "\n",
        "\n",
        "Notice that with NHST you're asking something like \"is it very likely that these two are different\" and with probabilistic decision making you're asking something like \"how often will I be wrong if I make this decision.\"\n",
        "\n",
        "\n",
        "We'll consider experiments with different ground truths:\n",
        "\n",
        "\n",
        "1. Treatment and Control are the same<br>\n",
        "2. Treatment is better than Control<br>\n",
        "3. Treatment is worse than Control<br>\n",
        "\n",
        "<div>When there is a difference we assume it's small, since most experiments have small effects. We do this by randomly drawing from a Beta distribution: Beta(1,20) and throwing out 0s.</div>\n"
      ],
      "outputs" : [
      ]
    },
    {
      "cell_type" : "code",
      "execution_count" : 1,
      "metadata" : {
        "cell.metadata.exec_info" : {
          "startTs" : 1661977411827,
          "endTs" : 1661977411954
        },
        "language" : "scala"
      },
      "language" : "scala",
      "source" : [
        "// How many simulations of experiments do you want to run\n",
        "val numberOfExperimentsToRun: Int = 10000\n",
        "// What should the average value of your control or treatment be\n",
        "val rangeOfMeans: (Double, Double) = (-100, 100)\n",
        "// Approximately how many of the experiments will have a control that is the same as the treatment\n",
        "// It's approximate because we use a random number generator to determine if any individual experiment should not be different\n",
        "// (the remainder will be evenly split be better or worse)\n",
        "val percentNoDifference: Double = 0.5\n",
        "// How many units (or users) will be in each sample\n",
        "val unitsPerTreatment: Int = 10000"
      ],
      "outputs" : [
      ]
    },
    {
      "cell_type" : "code",
      "execution_count" : 2,
      "metadata" : {
        "cell.metadata.exec_info" : {
          "startTs" : 1661977411956,
          "endTs" : 1661977412101
        },
        "language" : "scala"
      },
      "language" : "scala",
      "source" : [
        "case class Experiment(\n",
        "    controlMean: Double, \n",
        "    controlStandardDeviation: Double, \n",
        "    treatmentMean: Double, \n",
        "    treatmentStandardDeviation: Double,\n",
        "    truth: String)\n",
        "\n",
        "// evaluates to (\n",
        "//    stat sig,\n",
        "//    expected utility greater than 50%, \n",
        "//    does the sample reflect the direction of the population\n",
        "// )\n",
        "def runAnExperiment(e: Experiment): (Boolean, Boolean, Boolean) = {\n",
        "\n",
        "    import org.apache.commons.math3.distribution.NormalDistribution\n",
        "    import org.apache.commons.math3.stat.inference.TTest\n",
        "    import org.apache.commons.math3.stat.descriptive.moment.StandardDeviation\n",
        "\n",
        "    val controlPopulation = new NormalDistribution(e.controlMean, e.controlStandardDeviation)\n",
        "    val treatmentPopulation = new NormalDistribution(e.treatmentMean, e.treatmentStandardDeviation)\n",
        "\n",
        "    val controlSample = List.fill(unitsPerTreatment)(controlPopulation.sample())\n",
        "    val treatmentSample = List.fill(unitsPerTreatment)(treatmentPopulation.sample())\n",
        "    \n",
        "    val pValue = (new TTest()).tTest(controlSample.toArray, treatmentSample.toArray)\n",
        "\n",
        "    val controlSamplingStandardDeviation = (new StandardDeviation().evaluate(controlSample.toArray)) / Math.sqrt(unitsPerTreatment)\n",
        "    val treatmentSamplingStandardDeviation = (new StandardDeviation().evaluate(treatmentSample.toArray)) / Math.sqrt(unitsPerTreatment)\n",
        "\n",
        "    val controlSamplingDistribution = new NormalDistribution(controlSample.sum / controlSample.size, controlSamplingStandardDeviation)\n",
        "    val treatmentSamplingDistribution = new NormalDistribution(treatmentSample.sum / treatmentSample.size, treatmentSamplingStandardDeviation)\n",
        "\n",
        "    val numberOfSimulations = 10000\n",
        "    // Monte Carlo simulation for number of times control wins over treatment\n",
        "    val (controlWins, treatmentWins) = (for (i <- 0 until numberOfSimulations) yield {\n",
        "        val controlSample = controlSamplingDistribution.sample() \n",
        "        val treatmentSample = treatmentSamplingDistribution.sample()\n",
        "        if (controlSample > treatmentSample) {\n",
        "            (1,0)\n",
        "        } else if (controlSample == treatmentSample) {\n",
        "            // if it's a tie, then flip a coin\n",
        "            if (scala.util.Random.nextDouble > 0.5) {\n",
        "                (1,0)\n",
        "            } else {\n",
        "                (0,1)\n",
        "            }\n",
        "        }\n",
        "        else {\n",
        "            (0,1)\n",
        "        }\n",
        "    }).foldLeft((0,0))((acc, elem) => {\n",
        "        (acc._1 + elem._1, acc._2 + elem._2)\n",
        "    })\n",
        "\n",
        "    // Convert number of wins to probability of winning\n",
        "    val oneHundredPercent = 100.0\n",
        "    val pWinControl = controlWins / oneHundredPercent\n",
        "    val pWinTreatment = treatmentWins / oneHundredPercent\n",
        "\n",
        "    // We know the true population mean, was the direction of the samples correct?\n",
        "    // We want to know this to see if our p-value is in the right direction.\n",
        "    val sampleAgreesWithTruth = (\n",
        "        e.controlMean > e.treatmentMean && ((controlSample.sum / controlSample.length) > (treatmentSample.sum / treatmentSample.length)) ||\n",
        "        e.controlMean < e.treatmentMean && ((controlSample.sum / controlSample.length) < (treatmentSample.sum / treatmentSample.length))\n",
        "    )\n",
        "\n",
        "    // (bool, bool, bool)\n",
        "    (pValue <= 0.05, pWinTreatment > 50, sampleAgreesWithTruth)\n",
        "}"
      ],
      "outputs" : [
      ]
    },
    {
      "cell_type" : "code",
      "execution_count" : 5,
      "metadata" : {
        "cell.metadata.exec_info" : {
          "startTs" : 1661977412102,
          "endTs" : 1661977412280
        },
        "language" : "scala"
      },
      "language" : "scala",
      "source" : [
        "import org.apache.commons.math3.distribution.BetaDistribution\n",
        "\n",
        "// the distribution of effect sizes\n",
        "val beta = new BetaDistribution(1, 20)\n",
        "\n",
        "val visualizeBeta = List.fill(10000)(beta.sample + 0.001)\n",
        "\n",
        "visualizeBeta"
      ],
      "outputs" : [
        {
          "execution_count" : 5,
          "data" : {
            "text/plain" : [
              "List(0.09850095974406263, 0.02428015771031984, 0.09700851224581168, 0.0459055172191586, 0.00834574548832032, 0.04006067850067432, 0.09079290375275033, 0.06444041169704623, 0.13928089912524344, 0.02848314395970056, 0.041118345532475266, 0.0154071673856420…"
            ]
          },
          "metadata" : {
            "name" : "Out",
            "type" : "List[Double]"
          },
          "output_type" : "execute_result"
        }
      ]
    },
    {
      "cell_type" : "code",
      "execution_count" : 7,
      "metadata" : {
        "language" : "viz"
      },
      "language" : "viz",
      "source" : [
        "{\"type\":\"plot\",\"value\":\"Out\",\"plotDefinition\":{\"value\":\"Out\",\"title\":\"Out\",\"forceZero\":true,\"plot\":{\"type\":\"histogram\",\"x\":{\"field\":\"value\"},\"binCount\":100}}}"
      ],
      "outputs" : [
        {
          "data" : {
            "application/vnd.vegalite.v4" : [
              "{\"$schema\":\"https://vega.github.io/schema/vega-lite/v4.json\",\"title\":\"Out\",\"data\":{\"values\":[{\"start\":0.0010115504708307628,\"end\":0.004630337976601951,\"count\":683},{\"start\":0.004630337976601951,\"end\":0.00824912548237314,\"count\":670},{\"start\":0.00824912548237314,\"end\":0.011867912988144328,\"count\":594},{\"start\":0.011867912988144328,\"end\":0.015486700493915517,\"count\":559},{\"start\":0.015486700493915517,\"end\":0.019105487999686706,\"count\":529},{\"start\":0.019105487999686706,\"end\":0.022724275505457893,\"count\":519},{\"start\":0.022724275505457893,\"end\":0.026343063011229084,\"count\":465},{\"start\":0.026343063011229084,\"end\":0.02996185051700027,\"count\":451},{\"start\":0.02996185051700027,\"end\":0.03358063802277146,\"count\":396},{\"start\":0.03358063802277146,\"end\":0.03719942552854265,\"count\":378},{\"start\":0.03719942552854265,\"end\":0.040818213034313836,\"count\":331},{\"start\":0.040818213034313836,\"end\":0.04443700054008502,\"count\":328},{\"start\":0.04443700054008502,\"end\":0.04805578804585621,\"count\":270},{\"start\":0.04805578804585621,\"end\":0.051674575551627404,\"count\":294},{\"start\":0.051674575551627404,\"end\":0.05529336305739859,\"count\":264},{\"start\":0.05529336305739859,\"end\":0.05891215056316978,\"count\":239},{\"start\":0.05891215056316978,\"end\":0.06253093806894096,\"count\":214},{\"start\":0.06253093806894096,\"end\":0.06614972557471216,\"count\":184},{\"start\":0.06614972557471216,\"end\":0.06976851308048335,\"count\":182},{\"start\":0.06976851308048335,\"end\":0.07338730058625453,\"count\":172},{\"start\":0.07338730058625453,\"end\":0.07700608809202572,\"count\":161},{\"start\":0.07700608809202572,\"end\":0.08062487559779691,\"count\":156},{\"start\":0.08062487559779691,\"end\":0.0842436631035681,\"count\":143},{\"start\":0.0842436631035681,\"end\":0.08786245060933928,\"count\":136},{\"start\":0.08786245060933928,\"end\":0.09148123811511047,\"count\":125},{\"start\":0.09148123811511047,\"end\":0.09510002562088166,\"count\":117},{\"start\":0.09510002562088166,\"end\":0.09871881312665286,\"count\":111},{\"start\":0.09871881312665286,\"end\":0.10233760063242404,\"count\":107},{\"start\":0.10233760063242404,\"end\":0.10595638813819523,\"count\":91},{\"start\":0.10595638813819523,\"end\":0.10957517564396642,\"count\":101},{\"start\":0.10957517564396642,\"end\":0.1131939631497376,\"count\":71},{\"start\":0.1131939631497376,\"end\":0.11681275065550879,\"count\":64},{\"start\":0.11681275065550879,\"end\":0.12043153816127998,\"count\":78},{\"start\":0.12043153816127998,\"end\":0.12405032566705117,\"count\":80},{\"start\":0.12405032566705117,\"end\":0.12766911317282237,\"count\":57},{\"start\":0.12766911317282237,\"end\":0.13128790067859356,\"count\":57},{\"start\":0.13128790067859356,\"end\":0.13490668818436474,\"count\":49},{\"start\":0.13490668818436474,\"end\":0.13852547569013593,\"count\":44},{\"start\":0.13852547569013593,\"end\":0.14214426319590712,\"count\":38},{\"start\":0.14214426319590712,\"end\":0.1457630507016783,\"count\":45},{\"start\":0.1457630507016783,\"end\":0.1493818382074495,\"count\":35},{\"start\":0.1493818382074495,\"end\":0.15300062571322068,\"count\":28},{\"start\":0.15300062571322068,\"end\":0.15661941321899187,\"count\":27},{\"start\":0.15661941321899187,\"end\":0.16023820072476305,\"count\":21},{\"start\":0.16023820072476305,\"end\":0.16385698823053424,\"count\":30},{\"start\":0.16385698823053424,\"end\":0.16747577573630543,\"count\":24},{\"start\":0.16747577573630543,\"end\":0.1710945632420766,\"count\":26},{\"start\":0.1710945632420766,\"end\":0.1747133507478478,\"count\":17},{\"start\":0.1747133507478478,\"end\":0.178332138253619,\"count\":16},{\"start\":0.178332138253619,\"end\":0.18195092575939018,\"count\":19},{\"start\":0.18195092575939018,\"end\":0.18556971326516136,\"count\":14},{\"start\":0.18556971326516136,\"end\":0.18918850077093255,\"count\":24},{\"start\":0.18918850077093255,\"end\":0.19280728827670374,\"count\":21},{\"start\":0.19280728827670374,\"end\":0.19642607578247495,\"count\":14},{\"start\":0.19642607578247495,\"end\":0.20004486328824614,\"count\":9},{\"start\":0.20004486328824614,\"end\":0.20366365079401733,\"count\":7},{\"start\":0.20366365079401733,\"end\":0.2072824382997885,\"count\":13},{\"start\":0.2072824382997885,\"end\":0.2109012258055597,\"count\":6},{\"start\":0.2109012258055597,\"end\":0.2145200133113309,\"count\":4},{\"start\":0.2145200133113309,\"end\":0.21813880081710207,\"count\":5},{\"start\":0.21813880081710207,\"end\":0.22175758832287326,\"count\":11},{\"start\":0.22175758832287326,\"end\":0.22537637582864445,\"count\":7},{\"start\":0.22537637582864445,\"end\":0.22899516333441564,\"count\":2},{\"start\":0.22899516333441564,\"end\":0.23261395084018682,\"count\":7},{\"start\":0.23261395084018682,\"end\":0.236232738345958,\"count\":4},{\"start\":0.236232738345958,\"end\":0.2398515258517292,\"count\":6},{\"start\":0.2398515258517292,\"end\":0.24347031335750038,\"count\":0},{\"start\":0.24347031335750038,\"end\":0.24708910086327157,\"count\":3},{\"start\":0.24708910086327157,\"end\":0.25070788836904273,\"count\":2},{\"start\":0.25070788836904273,\"end\":0.25432667587481395,\"count\":3},{\"start\":0.25432667587481395,\"end\":0.2579454633805851,\"count\":2},{\"start\":0.2579454633805851,\"end\":0.2615642508863563,\"count\":8},{\"start\":0.2615642508863563,\"end\":0.2651830383921275,\"count\":3},{\"start\":0.2651830383921275,\"end\":0.2688018258978987,\"count\":4},{\"start\":0.2688018258978987,\"end\":0.27242061340366985,\"count\":0},{\"start\":0.27242061340366985,\"end\":0.27603940090944107,\"count\":2},{\"start\":0.27603940090944107,\"end\":0.2796581884152122,\"count\":3},{\"start\":0.2796581884152122,\"end\":0.28327697592098344,\"count\":1},{\"start\":0.28327697592098344,\"end\":0.2868957634267546,\"count\":2},{\"start\":0.2868957634267546,\"end\":0.2905145509325258,\"count\":0},{\"start\":0.2905145509325258,\"end\":0.294133338438297,\"count\":3},{\"start\":0.294133338438297,\"end\":0.2977521259440682,\"count\":3},{\"start\":0.2977521259440682,\"end\":0.30137091344983935,\"count\":2},{\"start\":0.30137091344983935,\"end\":0.30498970095561057,\"count\":0},{\"start\":0.30498970095561057,\"end\":0.3086084884613817,\"count\":3},{\"start\":0.3086084884613817,\"end\":0.31222727596715294,\"count\":1},{\"start\":0.31222727596715294,\"end\":0.31584606347292415,\"count\":1},{\"start\":0.31584606347292415,\"end\":0.3194648509786953,\"count\":0},{\"start\":0.3194648509786953,\"end\":0.32308363848446653,\"count\":0},{\"start\":0.32308363848446653,\"end\":0.3267024259902377,\"count\":0},{\"start\":0.3267024259902377,\"end\":0.3303212134960089,\"count\":1},{\"start\":0.3303212134960089,\"end\":0.33394000100178006,\"count\":0},{\"start\":0.33394000100178006,\"end\":0.3375587885075513,\"count\":0},{\"start\":0.3375587885075513,\"end\":0.34117757601332244,\"count\":1},{\"start\":0.34117757601332244,\"end\":0.34479636351909365,\"count\":1},{\"start\":0.34479636351909365,\"end\":0.3484151510248648,\"count\":0},{\"start\":0.3484151510248648,\"end\":0.352033938530636,\"count\":0},{\"start\":0.352033938530636,\"end\":0.3556527260364072,\"count\":0},{\"start\":0.3556527260364072,\"end\":0.3592715135421784,\"count\":0},{\"start\":0.3592715135421784,\"end\":0.36289030104794956,\"count\":0}]},\"mark\":{\"type\":\"bar\",\"tooltip\":{\"content\":\"data\"}},\"encoding\":{\"x\":{\"field\":\"start\",\"type\":\"quantitative\",\"bin\":{\"binned\":true},\"axis\":{\"tickCount\":100}},\"x2\":{\"field\":\"end\"},\"y\":{\"field\":\"count\",\"type\":\"quantitative\",\"axis\":{\"title\":\"Count\"}}},\"width\":\"container\",\"height\":\"container\"}"
            ]
          },
          "output_type" : "display_data"
        }
      ]
    },
    {
      "cell_type" : "code",
      "execution_count" : 3,
      "metadata" : {
        "cell.metadata.exec_info" : {
          "startTs" : 1661977436054,
          "endTs" : 1661977467716
        },
        "language" : "scala"
      },
      "language" : "scala",
      "source" : [
        "import scala.util.Random\n",
        "\n",
        "def generateExperiment() = {\n",
        "    val (lowerMean, upperMean) = rangeOfMeans\n",
        "    val controlMean = lowerMean + Random.nextDouble * (upperMean - lowerMean)\n",
        "    // Create a random standard deviation that is between 0.5% of the mean and 50% of the mean\n",
        "    val controlStandardDeviation = Math.abs(controlMean * 0.005 + Random.nextDouble * (controlMean * 0.5 - controlMean * 0.005))\n",
        "    val (treatmentMean, treatmentStandardDeviation) = {\n",
        "        if (Random.nextDouble <= percentNoDifference) {\n",
        "            (controlMean, controlStandardDeviation)\n",
        "        } else {\n",
        "            // pick a random effect size that is very small, because most effects are very small\n",
        "            val m = controlMean + controlMean * (beta.sample + 0.001)\n",
        "            val sd = Math.abs(m * 0.005 + Random.nextDouble * (m * 0.5 - m * 0.0005))\n",
        "            (m, sd)\n",
        "        }\n",
        "    }\n",
        "\n",
        "    val truth = {\n",
        "        if (controlMean == treatmentMean && controlStandardDeviation == treatmentStandardDeviation) {\n",
        "            \"same\"\n",
        "        } else if (controlMean > treatmentMean) {\n",
        "            \"worse\"\n",
        "        } else {\n",
        "            \"better\"\n",
        "        }\n",
        "    }\n",
        "\n",
        "    Experiment(\n",
        "        controlMean,\n",
        "        controlStandardDeviation,\n",
        "        treatmentMean,\n",
        "        treatmentStandardDeviation,\n",
        "        truth\n",
        "    )\n",
        "}\n",
        "\n",
        "val experiments = List.fill(numberOfExperimentsToRun)(generateExperiment)\n",
        "\n",
        "// (stat sig times correct, EU times correct), (both correct, EU only correct, stat sig only correct)\n",
        "val timesCorrect: List[(Int, Int)] = for (e <- experiments) yield {\n",
        "    def toInt(b:Boolean) = if (b) 1 else 0\n",
        "    val (statSig, probabilistic, directionallyRepresentativeSample) = runAnExperiment(e)\n",
        "    val statSigInTheRightDirection = statSig && directionallyRepresentativeSample\n",
        "    \n",
        "    if (e.truth == \"same\") {\n",
        "        // This is an interesting case because stat sig will tell you it's statistically signifcant sometimes\n",
        "        // but even though it says that, you still can't make the wrong decision according to our criterion\n",
        "        // so we give the stat sig approach a courtesy point here\n",
        "        (toInt(true), toInt(true))\n",
        "    } else if (e.truth == \"better\") {\n",
        "        (toInt(statSigInTheRightDirection), toInt(probabilistic))\n",
        "    } else {\n",
        "        (toInt(statSigInTheRightDirection), toInt(!probabilistic))\n",
        "    }\n",
        "}\n",
        "\n",
        "val (statSigCorrect, probCorrect) = timesCorrect.unzip \n",
        "val countTimesCorrect = ( \n",
        "    (statSigCorrect.sum, probCorrect.sum), \n",
        "    ( \n",
        "        timesCorrect.count(x => x._1 == 1 && x._2 == 1), \n",
        "        timesCorrect.count(x => x._1 == 0 && x._2 == 1), \n",
        "        timesCorrect.count(x => x._1 == 1 && x._2 == 0) \n",
        "    ) \n",
        ")\n",
        "\n",
        "countTimesCorrect"
      ],
      "outputs" : [
        {
          "name" : "stdout",
          "text" : [
            "((9394,9905),(9394,511,0))"
          ],
          "output_type" : "stream"
        }
      ]
    },
    {
      "cell_type" : "code",
      "execution_count" : 4,
      "metadata" : {
        "cell.metadata.exec_info" : {
          "startTs" : 1658339330219,
          "endTs" : 1658339330293
        },
        "language" : "vega"
      },
      "language" : "vega",
      "source" : [
        "{\n",
        "  \"$schema\": \"https://vega.github.io/schema/vega-lite/v5.json\",\n",
        "  \"description\": \"How many times each method is correct\",\n",
        "  \"width\": 300,\n",
        "  \"data\": {\n",
        "    \"values\": [\n",
        "      {\"Per Experiment\": \"Both\", \"Correct\": countTimesCorrect._2._1}, \n",
        "      {\"Per Experiment\": \"Only EU\", \"Correct\": countTimesCorrect._2._2},\n",
        "      {\"Per Experiment\": \"Only Stat Sig\", \"Correct\": countTimesCorrect._2._3},\n",
        "    ]\n",
        "  },\n",
        "  \"mark\": {\n",
        "    \"type\": \"bar\",\n",
        "    \"width\": 50,\n",
        "    \"x\": 100,\n",
        "    \"strokeWidth\": 200\n",
        "  },\n",
        "  \"encoding\": {\n",
        "    \"x\": {\"field\": \"Per Experiment\", \"type\": \"nominal\", \"axis\": {\"labelAngle\": 0}},\n",
        "    \"y\": {\"field\": \"Correct\", \"type\": \"quantitative\"}\n",
        "  }\n",
        "}"
      ],
      "outputs" : [
        {
          "data" : {
            "text/html" : [
              "<img src=\"data:image/png;base64,iVBORw0KGgoAAAANSUhEUgAAAWsAAAD3CAYAAADblXX0AAAAAXNSR0IArs4c6QAAAERlWElmTU0AKgAAAAgAAYdpAAQAAAABAAAAGgAAAAAAA6ABAAMAAAABAAEAAKACAAQAAAABAAABa6ADAAQAAAABAAAA9wAAAACQzQa1AAAnzklEQVR4Ae2dC3gU1fnGv2AQJCoJGFJJABMDISShBLHQEG5FpajBohihtdFCKdr6GKtWaBAMfVppvJZqvaXaRi7agqUgNRKKIpBL4QG8VRqFFBIUkIAmXEIgMP95T/9ns7vZzRBIJrPLe55nszPnnDlz5ney7377zTnfhBhmEiYSIAESIAFHE+jg6N6xcyRAAiRAAooAxZr/CCRAAiQQAAQo1gEwSOwiCZAACVCs+T9AAiRAAgFAgGIdAIPELpIACZBAm4p1XV2dnDhxwoPy8ePHpb6+3iPPe6empsY7S/wd56tuk4OZQQIkQAIBTqBNxPrw4cOyfv16GTNmjLzxxhsKUUNDg0ybNk1GjhwpaWlpMnXqVDl9+rQHvtLSUklKSpLMzEwZMGCAlJSUiL/jfNX1aIw7JEACJBBMBDDPurXTpk2bjBkzZhi9e/c2lixZopp/5513jNTUVNep4uPjjbVr17r2sWEKubFixQqVt2jRImPEiBGGv+N81fVojDskQAIkEEQE2sSyvvrqq+WFF16QlJQU1/fajh07PPZNsRbkuSf3OrrcPQ91feXrPPe2uE0CJEACwUQg1K6Lqa2tlY4dO7pOFxERIR06eH5XuNfR5e55ONhXvs7TjW/cuFGKi4v1rnqPjIyU0aNHe+RxhwRIgAScSiAuLs6ja7aJdXJyshQVFblOXl1drfzSrgxzA3WqqqokJiZGdLm/43zV1W2lp6cLXu4pLy9PvC/evZzbJEACJOAUAhUVFU264mnaNiluvQzTXy2mL1sOHjwo5eXlUlZWJomJiQLLWVvBqFNYWCinTp2SgoIC5Tbxd5yvuq3XW7ZEAiRAAs4i0OaWdUhIiLriHj16SFZWliQkJAim9OXm5iqXBmZ8ZGRkyKFDhyQ7O1tGjRol+fn5EhYWJpjxAfeFr+N81XUWWvaGBEiABFqPQAhulrZec9Yt7d+/Xzp16iTh4eGq8pEjR8ScOSKLFy9W+5iqV1lZKbGxsaKFHgXexyHPX12UeSe4QWbOnOmdzX0SIAEScBwBuEG83bZtbll7U4iKivLIwqKWnJwcV15oaGiTTqLQ+zjk+auLMiYSIAESCCYCtou1N7zo6GjBi4kESIAESMA/AdtuMPrvAktIgARIgASsCFCsrQixnARIgAQcQIBi7YBBYBdIgARIwIoAxdqKEMtJgARIwAEEKNYOGAR2gQRIgASsCLT7bBCrDgZS+dS8NwOpu377+srMDL9lLCABEmgfAhTrVuR+4OtjrdgamyIBEiCBRgJ0gzSy4BYJkAAJOJYAxdqxQ8OOkQAJkEAjAYp1IwtukQAJkIBjCVCsHTs07BgJkAAJNBKgWDey4BYJkAAJOJYAxdqxQ8OOkQAJkEAjAYp1IwtukQAJkIBjCVCsHTs07BgJkAAJNBKgWDey4BYJkAAJOJYAxdqxQ8OOkQAJkEAjAYp1IwtukQAJkIBjCVCsHTs07BgJkAAJNBKgWDey4BYJkAAJOJYAxdqxQ8OOkQAJkEAjAYp1IwtukQAJkIBjCVCsHTs07BgJkAAJNBKgWDey4BYJkAAJOJYAxdqxQ8OOkQAJkEAjAYp1IwtukQAJkIBjCVCsHTs07BgJkAAJNBKgWDey4BYJkAAJOJYAxdqxQ8OOkQAJkEAjAdvF+vjx44JXc6mmpqZJMY6pr69vku+rbpNKzCABEiCBACdgq1hPnz5dsrKyJDMzU37yk5+IYRge+EpLSyUpKUmVDxgwQEpKSqShoUGmTZsmI0eOlLS0NJk6daqcPn1afNX1aIw7JEACJBBEBELtupbt27fLsmXLpLq6Wglw165dZe7cuRITE+PqwqxZs2T+/PkyYcIEWbx4sWB/3rx5sm3bNtm6dauq17dvX1m3bp3K9667fv16V1vcIAESIIFgImCbWCcmJkpCQoKMGTNG6urqJD093UOoAXXHjh2SkpKi+MbHx6t99zwU+MrXeepA/iEBEiCBICRgm1jv3r1bdu3aJddff72cPHlSCgsLBf5mWNg61dbWSseOHdVuRESEdOjQQdzzUOArX+fpdjZu3CjFxcV61/VeUVHh2uaGfwLk5J8NS0igvQjYJtYQ5/79+8srr7yirnXo0KFKsCdPnuy69uTkZKmqqlIWN9wl8Fsjr6ioyFXHPd+7rq4Eqx0v95SXlydxcXHuWW2wvbkN2rS/ybbnZP818YwkEEgEfBlMtt1gxI3Dffv2qZkguGl44MAB6devn7KctRWcmpqqBPzUqVNSUFCgXCLI27Rpkxw8eFDKy8ulrKxM4FLxVTeQBoN9JQESIIGWELDNsh4xYoQS2V69ekmnTp1k7NixMnjwYDXjIyMjQw4dOiTZ2dkyatQoyc/Pl7CwMDXjIzIyUs0ggb8bvu7c3FzlCvFVtyUXzrokQAIkEEgEbBNrQFm+fLkSZfiiw8PDFaeBAwfK+PHj1TYEec+ePVJZWSmxsbESEhKi8hcsWCA5OTlK5PVx/uqqA/iHBEiABIKMgK1iDXbdunXzQIibjBBinUJDQ336lqOionQV17u/uq4K3CABEiCBICFgu1h7c4uOjha8mEiABEiABPwTsO0Go/8usIQESIAESMCKAMXaihDLSYAESMABBCjWDhgEdoEESIAErAhQrK0IsZwESIAEHECAYu2AQWAXSIAESMCKAMXaihDLSYAESMABBCjWDhgEdoEESIAErAhQrK0IsZwESIAEHECAYu2AQWAXSIAESMCKAMXaihDLSYAESMABBCjWDhgEdoEESIAErAhQrK0IsZwESIAEHECAYu2AQWAXSIAESMCKAMXaihDLSYAESMABBCjWDhgEdoEESIAErAhQrK0IsZwESIAEHECAYu2AQWAXSIAESMCKAMXaihDLSYAESMABBCjWDhgEdoEESIAErAhQrK0IsZwESIAEHECAYu2AQWAXSIAESMCKAMXaihDLSYAESMABBCjWDhgEdoEESIAErAhQrK0IsZwESIAEHECAYu2AQWAXSIAESMCKAMXaihDLSYAESMABBCjWDhgEdoEESIAErAhQrK0IsZwESIAEHECAYu2AQWAXSIAESMCKgO1iffLkSdm/f3+z/aqpqWlSfvz4camvr2+S76tuk0rMIAESIIEAJ2CrWD/yyCMyfPhwufvuu+WGG24QCLB7Ki0tlaSkJMnMzJQBAwZISUmJNDQ0yLRp02TkyJGSlpYmU6dOldOnT4uvuu5tcZsESIAEgolAqF0Xs337dlm4cKHs3LlTQkJCZM2aNfLVV1/J5Zdf7urCrFmzZP78+TJhwgRZvHixYH/evHmybds22bp1q6rXt29fWbduncr3rrt+/XpXW9wgARIggWAiYJtlDZG++OKLJTk5WQl0WVmZh1AD6o4dOyQlJUXxjY+PV/vueSjwla/z1IH8QwIkQAJBSMA2y3rPnj3y8ccfS2FhoYSFhcmtt94qU6ZMUeKrudbW1krHjh3VbkREhHTo0EHc81DgK1/n6XY2btwoxcXFetf1XlFR4drmhn8C5OSfDUtIoL0InJFYX3HFFVJQUCCjRo1S/YQbAmK7a9cuJbxn0nkI6sCBA2XcuHGq+ujRo5UrBFaxTrC6q6qqJCYmRqqrq5XfGnlFRUW6ike+d11dKT09XfByT3l5eRIXF+ee1Qbbm9ugTfubbHtO9l8Tz0gCgUTAl8HUrBvkvvvuk86dO8vu3bvl2muvVdvYHzt2rGBWR6dOnc74+gcNGiSfffaZ7Nu3T44ePSpbtmyRESNGKMtZW8GpqanK8j516pT6coBLBHmbNm2SgwcPSnl5ucB9kpiYqPJhpbvXPePOsCIJkAAJBBiBZi1rWMI33nijLF++XIYNGyY9evRQl4cbhOPHj5fQ0GYP90CRkJAgc+fOlSFDhsgFF1wgEydOVP5rzPjIyMiQQ4cOSXZ2trLe8/PzlcWOGR+RkZGSlZUlOL6urk5yc3OVK8RXXY8TcocESIAEgohAiGEmq+t54okn5LrrrhPMxIBQQ6RbItTu7R87dkxZw5dcconKPnLkiMyYMUPN/kAGpupVVlZKbGysOpc+FnOzYcmHh4frLL91XRXcNuAGmTlzpltO629m/PIvrd9oO7T45vzb2uGsPCUJkIAmADeItzuyWTeIPhDWLfzV77//vmzYsEH5lFesWKGLW/TepUsX0UKNA7GoJScnx9UGvgTQSXwpuKeoqCgPoUaZv7rux3GbBEiABIKBwBn5MebMmSOXXXaZ9OzZUy1k6dq1q9x+++1qnvTZWtgaXnR0tODFRAIkQAIk4J+ApWW9d+9eNUMDqwj79OmjfMf333+/wH2BudNMJEACJEACbU/A0rLGTcVLL71UrSzEMm9Y0k899ZS62dirV6+27yHPQAIkQAIkIJZijZkbL7/8svIrz549WyGDS+TJJ58U+J+ZSIAESIAE2p6ApVijC5MmTVIvzHc+fPiwjBkzRq0ubPvu8QwkQAIkQAIgYOmzRiUsE0c0vKFDh6oFKpjG9+6776KIiQRIgARIwAYCZyTWN910k1rFiCl8SJhuN3nyZBWq1IY+8hQkQAIkcN4TsBTrL774QjBB+5lnnlHuDxCD7/rLL79Ui1fOe4IEQAIkQAI2ELD0WWNONaLfrVy5Ui0JR8hSxOfA3OjevXvb0EWeggRIgARIwFKsEc70oYcekscee0y5PXSAfzwUACLORAIkQAIk0PYELMUaUe3uuece9Tit1atXCxbJ4EYjnubCRAIkQAIkYA8BS7HGSsUrzHjWiF+9ZMkSe3rFs5AACZAACXgQsBRr+KwxVW/p0qVyzTXXuCJBwQWCh9gykQAJkAAJtD0BS7FGBNW33npL9QTxQXTC47dOnDihd/lOAiRAAiTQhgQsxRqhSp977rkmc6qxDJ2JBEiABEjAHgKWYo3HaUGssQhGxwaxp2s8CwmQAAmQgCZgOfeue/fuKuj/7373O8ECGSYSIAESIAH7CVha1ujSJ598ohbEYCGMfkjuhRdeqB52a3+XeUYSIAESOP8InJFYp6enN/FZn+sTYs4/1LxiEiABEjh7Amck1vp5i1u2bFFnuuqqq87+jDySBEiABEigxQQsfdZocc2aNRIfHy9DhgxRryuvvFK0gLf4jDyABEiABEigxQQsLWssN8/OzpZjx46pGCE4w8KFC+WOO+4QzBThFL4WM+cBJEACJNBiApZivX37dsHrpZdekunTp6sTwLKeMWOGCp3at2/fFp+UB5AACZAACbSMgKUbJCYmRrVYWFgon3/+uXq9/fbb6vmLmNbHRAIkQAIk0PYELC3r8PBwmTJlirz22muyfPlyV48QNrVbt26ufW6QAAmQAAm0HQFLscapX331VeWjRjAnJETgGzt2rNrmHxIgARIggbYnYCnWmK736aefKut63LhxKkzqiBEjhPOs235weAYSIAES0ASa9Vlj1gem68EFotOvfvUrFSZ11apVOovvJEACJEACbUzAr1gjNCqeENOzZ0958MEHXd2YP3++1NfXqyfHNDQ0uPK5QQIkQAIk0HYE/Io1HoxbW1urpuu5P2Rg4sSJSqgPHDigpu61XdfYMgmQAAmQgCbgV6zxcAGkjz76SNd1ve/cuVNtd+7c2ZXXko3Dhw/L119/7feQmpqaJmXHjx9XFr13ga+63nW4TwIkQAKBTsCvWPfp00f69++vpuvddttt8uKLL0p+fr6aCbJy5UoZMGCA9O7du8XXDxfKqFGj5Omnn25ybGlpqSQlJUlmZqZqv6SkROBqwRNqYN2npaUpq/706dPiq26TBplBAiRAAkFCwO9sEDwhZvHixXLLLbfIX//6V/XS14yFMosWLdK7LXp/4IEHBM919JVmzZol8Injyek4N/bnzZsn27Ztk61bt6pDsGJy3bp1Kt+77vr16301yzwSIAESCHgCfsUaVzZ48GAVyxpBm8rLy1WY1H79+gn81l26dGnxxb/++uuCLwFY1riB6Z3gJ09JSVHZCByFffc8FPjK13ne7XGfBEiABIKFQLNijYu86KKL1CO9zvWCIfaPPvqocl88/vjjPpvDDU3tK4+IiBA8Qd09Dwf5ytd5utGNGzdKcXGx3nW9V1RUuLa54Z8AOflnwxISaC8ClmLdWh1DIKh9+/YJFtTs3btXWdaILXLvvfe6TpGcnCxVVVUCN0t1dbXyWyOvqKjIVcc937uuroSHJeDlnvLy8tT8cPe81t/e3PpNtkOLcXFx7XBWnpIESEAT8GUw+b3BqA9qrXfEEoGvGb7uSZMmKVcKHsILy1lbwampqYKAUQjLWlBQoFwiyNu0aZMKxwrrvKysTBITE8VX3dbqK9shARIgAacRsM2yjoqKEryQ8H7y5Enp0aOHYMZHRkaGesYj4mbDn41ZJ2FhYcplEhkZKVlZWZKQkCB1dXWSm5urXCG+6joNLvtDAiRAAq1FwDaxdu/www8/7NodOHCgjB8/Xu1DkPfs2SOVlZUSGxurbkaiYMGCBZKTk6Me1osogEj+6qpC/iEBEiCBICPQLmLtzhCLWiDEOiFAlC+fqbbKdT28+6vrXofbJEACJBAMBNpdrKOjowUvJhIgARIgAf8EbLvB6L8LLCEBEiABErAiQLG2IsRyEiABEnAAAYq1AwaBXSABEiABKwIUaytCLCcBEiABBxCgWDtgENgFEiABErAiQLG2IsRyEiABEnAAAYq1AwaBXSABEiABKwIUaytCLCcBEiABBxCgWDtgENgFEiABErAiQLG2IsRyEiABEnAAAYq1AwaBXSABEiABKwIUaytCLCcBEiABBxCgWDtgENgFEiABErAiQLG2IsRyEiABEnAAAYq1AwaBXSABEiABKwIUaytCLCcBEiABBxCgWDtgENgFEiABErAiQLG2IsRyEiABEnAAAYq1AwaBXSABEiABKwIUaytCLCcBEiABBxCgWDtgENgFEiABErAiQLG2IsRyEiABEnAAAYq1AwaBXSABEiABKwIUaytCLCcBEiABBxCgWDtgENgFEiABErAiQLG2IsRyEiABEnAAAYq1AwaBXSABEiABKwIUaytCLCcBEiABBxCgWDtgENgFEiABErAiYLtYHz16VPBqLtXU1DQpPn78uNTX1zfJ91W3SSVmkAAJkECAE7BNrE+cOCE333yzjB49Wu688061XVdX54GvtLRUkpKSJDMzUwYMGCAlJSXS0NAg06ZNk5EjR0paWppMnTpVTp8+Lb7qejTGHRIgARIIIgK2ifV7770nVVVVsnnzZlm6dKns379fli1b5oFy1qxZMn/+fFm9erXMnj1bsL9hwwbZtm2bbNq0SbZs2aL2161bp8q863o0xh0SIAESCCICtok1LOq1a9cqdDt37pQPP/xQhg8f7oFyx44dkpKSovLi4+MF++55KPCVr/M8GuMOCZAACQQRgVC7rqVjx46CV0FBgTzwwAPKMo6Li/M4fW1traqDzIiICOnQoYO45/nL13V1Yxs3bpTi4mK963qvqKhwbXPDPwFy8s+GJSTQXgRsE2tc4Jw5c5TrY9WqVTJs2LAm15ycnKxcJTExMVJdXa381sgrKipy1XXPh1vFva6ulJ6eLni5p7y8PPH+cnAvb53tza3TTDu30vac2vkCeXoScDgBXwaTbW6QDz74QF588UV109BdqGE5ays4NTVVCgsL5dSpU8oCh0sEefBXHzx4UMrLy6WsrEwSExNVvnddh/Nn90iABEjgrAnYZllj9saBAweke/furs4+++yzMmjQIMnIyJBDhw5Jdna2jBo1SvLz8yUsLEzN+IiMjJSsrCxJSEgQzB7Jzc1VLhJfdV0Nc4MESIAEgoyAbWJ91113CV7e6ciRIzJ+/HiVDUHes2ePVFZWSmxsrISEhKj8BQsWSE5OjnTq1EnCw8ObrevdPvdJgARIIBgI2CbW/mBhUQuEWKfQ0FCfvuWoqChdxfXur66rAjdIgARIIEgItLtYR0dHC15MJEACJEAC/gnYdoPRfxdYQgIkQAIkYEWAYm1FiOUkQAIk4AACFGsHDAK7QAIkQAJWBCjWVoRYTgIkQAIOIECxdsAgsAskQAIkYEWAYm1FiOUkQAIk4AACFGsHDAK7QAIkQAJWBCjWVoRYTgIkQAIOIECxdsAgsAskQAIkYEWAYm1FiOUkQAIk4AACFGsHDAK7QAIkQAJWBCjWVoRYTgIkQAIOIECxdsAgsAskQAIkYEWAYm1FiOUkQAIk4AACFGsHDAK7QAIkQAJWBCjWVoRYTgIkQAIOIECxdsAgsAskQAIkYEWAYm1FiOUkQAIk4AACFGsHDAK7QAIkQAJWBCjWVoRYTgIkQAIOIECxdsAgsAskQAIkYEWAYm1FiOUkQAIk4AACoQ7oA7tAAm1C4D+VB9ukXbsb7d+7u92n5PkcSIBi7cBBYZdah8Avnv9n6zTUzq28Of+2du4BT+8EAnSDOGEU2AcSIAESsCBAsbYAxGISIAEScAIBirUTRoF9IAESIAELAhRrC0AsJgESIAEnEKBYO2EU2AcSIAESsCAQ8GJdU1NjcYksJgESIIHAJxCwYl1aWipJSUmSmZkpAwYMkJKSksAfDV4BCZAACfghELBiPWvWLJk/f76sXr1aZs+eLdhnIgESIIFgJRCwYr1jxw5JSUlR4xIfHy/YZyIBEiCBYCUQYpgpEC/ukksuke3bt0tMTIx8+umn8p3vfEf27NmjLmXjxo1SXFzscVldunSRY8eOeeRxhwRIgAScSACu3YyMDI+uBexy8+TkZKmqqlJiXV1drfzW+srS09MFr2BMeXl5MnPmzGC8tIC8Jo6Hs4YtmMcjYN0gqampUlhYKKdOnZKCggKXS8RZ/zrsDQmQAAm0DoGAtayzs7Nl1KhRkp+fL2FhYYLZIUwkQAIkEKwEAlasExISlI+6srJSYmNjJSQkJFjHiNdFAiRAAhKwYo2xCw0Nlbi4uPNqGIcPH35eXa/TL5bj4awRCubxCNjZIM76F2FvSIAESKBtCQTsDca2xcLWSYAESMBZBALaDeIslOfWG8wNP3z4sGqke/fu8q1vfeuMG3z77bfVPPMLL7zwjI9hRVHz8zEfH/PvMRV05MiRzd77ePfddyUtLU06derULL4tW7bIl19+6VGnZ8+e8s1vflOtuMWN8c6dO6ty1Nu5c6d8+9vf9qgfLDvHjx+XdevWqTURYDBixAjBu7+EtRJff/21Gg9/dXQ+loggzMS///1v9f+PxXHnmjAN+M0335TLL79cTWC46KKL5OjRo4Ixxf9HeyZa1u1J3+3cP/3pT+Uvf/mL/Otf/5JFixapuCdbt251q+G5+cc//lGee+45lXnHHXdIbW2tZwXuNUvgt7/9rYwfP17Kysrk888/V+EKsLDqyJEjfo/LysoSfJit0iOPPCLPPvusvPPOO67XJ598og7DQof9+/e7moDY3Hfffa79YNrYtWuX+hJ66qmnlACvXLlSfdnh/9xfQviIBQsW+Ct25WOcMH132bJlsm/fPvnxj38sDz/8sCp3/2y4DnDbeP/992XatGluOf/bfOmll+R73/uefPHFF7JixQoZOHCgGit8toqKiprUtz0DKxiZ2p+AuXTeMC0QV0fMIFWGKdpq/w9/+INhrtQ0TIvEeOaZZwzzg29cdtllhmmBG6tWrTIiIyMNU0iMb3zjG8bYsWMN0zJxtcONpgTA7+KLLzbMD6VHoSnWxqOPPmq89tprxtSpU42rrrrKiI6ONl5++WVVD2NgftANjJVpbam8p59+2pg3b55HOzfccIOxcOFCjzy907FjR8MUMb1rLF++3DB/Rbn2g2lj8uTJxs9//nOPS1q/fr1hrj42TIvbMG8GqnL8344ZM8b46quvDFNoDVN4jblz5xpPPvmkOtb85WOYwmmYX5Sutt577z0jKirKNQ6oY34pGKaV7fHZWLt2rTFs2DA1jjNmzFDHm6sDDdNiNswvVVd72EAfnnjiCVeeKdCG+WVuVFRUGKaIq3x8RvHZxP/GnXfeqf5XXAe08QYta9u/Hv2f8Ne//rXcfvvtyvo4dOiQTJgwQVnMphgIrIXf//73YoqJ+hkJSwKW3rXXXqt+upv/J2L+Y4r5D68WC/k/C0u2bdsmiYmJ6qeuO43Ro0fLxx9/rBj+/e9/l+eff15Z3FgVp5P5JalmIf3zn/97GC9+BZkfXF3sesf8f4yRfuGc51uC6+Caa67xuGzM1oBrBFNuESYCLihTwOXgwYMe/7dgCrZI+L+Giw/uQZ3gkujVq5f6LPzgBz+QpUuXyt133y2Y0uv+2bj//vvlZz/7mXz44YeyYcMGgbvxscceU4vofvGLX+jm1Dt+4SBvyJAhMmfOHDG/RGTo0KGqvwhtgfTggw+qFcSPP/64cpfAqrcrUaztIn0G5zEtALn++utlypQpamXmn//8Z1mzZo3y840bN05uueUWwT87fpJhIRDinWg/NdwoiCeAZfb4IDD5J9DQ0KA+gN414J7QPOGuuPrqq+WHP/yhCmvgXvfWW29VH1S4TxBADF+Y3qlPnz7KRw0/NV5du3ZVVTDdFF+s7umCCy5w3w2abV+cIconT55UnLE2AtEy+/btq3zOCB+hE/7f4csHY/iQJ02apItc71gIB0EHW9OClxtvvFHA0v2zAbfK6dOnxbTSlUsD9whQ3/yFo+q5GjM3YBzBXWX+IhDTclfjBoHXCcfCiML/hGmFy3XXXaeLbHnnDUZbMJ/ZSWCF4OaTTm+88YbcdNNNAmtOJ/zj4UPgnfTNFV9i4F33fN+/8sor5aOPPlK+TlhPOuEDil82SKabRL374gnhwDjB+oOoa4FXB/z/H3yQdVvu+VjAtXv3brniiitUNsQoWNcKgDOMjZtvvtmFAFY0xBQB2JD8ccZNXIgvhNp09Snr29WIuQGfcn19vYpnj3oIl2y6rKS8vNxVDV+K+CIF3+9+97vqS8FV6LWBsBV33XWXutcA6xkv+MDx6wpWNhK+PNzH2t3S92quTXZpWbcJ1nNr9L///a+ynmEpw8LALATc5MCdctwQM/3S6gSwUJhaTgAzL/r37y9wO+HLDwk/o03fpJh+SLXf3B9YguZ9AiUQsLJ9JXz4MT76hX0kzDrRP+/hDjD942c088HXOZyeZ/r9BQYHXEtImO0EC3f69OnKArbqP74UIcKmb1og/O4JM0pyc3MFNwuR9A32Dh3+J2ngvnfvXmUpL1myRN1MRl39q8b7swOLHDcW4SKpq6tztanbQwb6AMHGFwJmiGAWlp2JYm0n7WbOhZ+E8JninwMfaHyQc3JylGsD+RAX+FnhJunRo4e6Ew6/6FtvvdWkVS69b4LEIwOMMYsAX4Lh4eHK73nvvfcqlhAG7+TOU29DpDEjAV+m3gl1IPqwwvRLh7uErxMWPCx6CD4sSJw7GNNtt92mrNXBgwcL3EJgi1+AmInjncBMs9XvsIbhdoBb0DvBRYVpgHBH4HMB9592qWCWCD4bEGe0gfPjlw4+R+Dfr18/JbqYteOeEM0SFjt84RBmGEa/+c1vXFXwuTNvKKs24RvHFz1+edmVuILRLtLneB74+mCd4R9GJ9ycwYc9WH2e+jrb8h2/Vk6cONFiVwQEBz5ufHjPJuG8mMNr90/ps+nruR4DwwMW6RWm6wcukDNNsHDhNsLNQff/e/fjMXa7zCmC+LWjRR7l7p8NsMa8aXxO8DkCc1jWEFtfc+bhO0e8fHyRuye4HzGtEDcsYaHDcMJTqrxvorof05rbFOvWpMm2zgsC99xzj/LFwh/bu3fv8+Ka7b5IWMXf//73ZeLEiR7Wrd398D4f/NqYG48HdeOLBK4QvcDJu25r71OsW5so2wt6ArCocdOXv2jabqhhMUMQ4SpyWsL449cCXDt2Joq1nbR5LhIgARI4SwK8wXiW4HgYCZAACdhJgGJtJ22eiwRIgATOkgDF+izB8TASOBsCmKWAFxMJtJQAxbqlxFjfVgIffPCBmpKl5+FiOhVWBuqFFmfTGTMYlkebum3vebdn07bVMQh9O2jQIKtq51SO+DBYfYeof0zBQ8C+Gd3Bw4xXYiMBveIMC4WwqAEivXjxYjVv91wfkoz5sZj7q5OvgEy6rLXeEVdCr2ZsrTa924FYYzEHZqsg7CtTkBAwPwxMJOBYAma0OkQ9MsxAVa4+mgscVIhLZCCMpRk/xTAXTRhmIB7DjIKm6iFMqSmMhrlk2TBjF7uOxYYZvVC1+be//c0jHztmtD3DXAFn/PKXvzTMJcyGuTLOQOhUM0KcYQZkMhBmE3nmqjjjlVdeUcebiyUMMxayCnVqrn4zsrOzDXPqmQpfi2PM2BKGuQLV+M9//mOYwbhUP3Eg+oh9M7aFgeMeeughw1y1qrZxDjOGiGrf1zWaK/tUP3FtCDVqxr9QYUVxgLmyT10f2jSXWqs2+CfwCWAlDhMJOJaAFmszGJBhLkZQ8Y7N5eKGaWkb5jxcw1yQYJhLj5XImavRDDPAkroWiBdEHrGTzRCnHtenxRpihnb0y1xlZ5hWrxI/nANiijYQ3/qzzz5T29iHuCK2NbYRG9uM7Ka2zeXVKsYx8hEr+dVXX3UdA3E3V8apc5mr7VR/zHm6humCMUy3jqs9iDq+dNAGRN/fNZpzfVUdHP+jH/3IMJdQq7ZwDYjJjePNhysY4McUHAToszb/q5mcT8C0glWcb8QqNkVWxfVGHAcsTkBQH0Rgw0IVxN3AYgok+LcRLta0WH1eIOI/wPWhX1j+jbghBQUFain4P/7xDxWXAiEzdcL5EQkOAZiQEABKP/kES6IjIiKUPxx90wm+cMR21pHmdD7eEazLfFCBiqGB/RdeeEEQGhcJITn9XaMOXIRYzqaFr2Ism5KkzoOYHEiIn9HW/nF1Iv6xhQB91rZg5knOlQDCbCIwPOI6IA4Ekvk0EfUOgYVQaZHCDUMk+KO94zuogv//gwBKWM7snSDaiHeM5L2UWAfuQR0kxIswrW61rW9UIray+8o7BBbyl3RsCv2OdvXKSLSn2/Z3jTq2iHvoTn/nYn5gE6BYB/b4nTe9R5Q6PJzBPcFy1AnR1RBRDWJ66aWXqmwIXHMJoUo3b97sqoLobZhpgtCesFzR/p/+9Ccl6ChDev3119WDU7X1i4D1CJeJIPUQTkRHRJAn04XiateqH66KPjb8XSMCDVklPIkF1rm/IEhWx7PcWQQo1s4aD/bGi4C2kvW7ezHCjsLFgAedms8yVC4IzBSxSrotuFbcE9qD8OLpInB3YPobRBrxl+ESQYLwQczhfsHDVeFCgaUPUcTjvzCHGq4N048seHK6r6TPr99Rx9c28qyuUR+n39EWgkshhCe+WBAe1PvxVajDFHgEGBsk8MaMPfYigKlweHAA3B7afeFV5Zx38fguiDIC3kP8EEjfO/Y14lvj6ecI8OMunud8crOBll4jwn+aD05WIUm1i6U1+sE22o8ALev2Y88ztxIB+Hi1H7uVmmy2GTz7Ei/vhEdU6cdUeZed635LrxGul27dup3raXm8gwhQrB00GOyKcwlgxsnKlSuVe8G5vWTPgpkA3SDBPLq8NhIggaAh0Pzt8qC5TF4ICZAACQQ2AYp1YI8fe08CJHCeEPg/huRbLVGiCD8AAAAASUVORK5CYII=\">"
            ]
          },
          "output_type" : "display_data"
        }
      ]
    }
  ]
}