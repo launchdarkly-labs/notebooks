{
  "metadata" : {
    "config" : {
      "dependencies" : {
        "scala" : [
          "org.apache.commons:commons-math3:3.6.1",
          "io.github.cibotech:evilplot:0.8.1"
        ]
      },
      "exclusions" : [
      ],
      "repositories" : [
        {
          "maven" : {
            "base" : "https://maven.imagej.net/content/repositories/public/"
          }
        }
      ],
      "sparkConfig" : {
        
      },
      "env" : {
        
      },
      "scalaVersion" : "2.12"
    },
    "language_info" : {
      "name" : "scala"
    }
  },
  "nbformat" : 4,
  "nbformat_minor" : 0,
  "cells" : [
    {
      "cell_type" : "markdown",
      "execution_count" : 0,
      "metadata" : {
        "language" : "text"
      },
      "language" : "text",
      "source" : [
        "# Probabilistic Decision Making vs. Statistical Significance\n",
        "\n",
        "\n",
        "This notebook will walk through a concrete set of experiments where you can see the effect of making a decision using null hypothesis significance testing (NHST) via statistical significance or probabilistic decision making via expected utility. At the end we'll see which provides the most value. In addition, you can see what happens over the long run if you make these sorts of decisions. For a nice intro to probabilistic decision making see [this short video](https://www.nytimes.com/video/business/100000004868264/making-choices-like-a-poker-champ.html?partner=slack&smid=sl-share).\n",
        "\n",
        "\n",
        "Notice that with NHST you're asking something like \"is it very likely that these two are different\" and with probabilistic decision making you're asking something like \"how often will I be wrong if I make this decision.\"\n",
        "\n",
        "\n",
        "We'll consider experiments with different ground truths:\n",
        "\n",
        "\n",
        "1. Treatment and Control are the same<br>\n",
        "2. Treatment is better than Control<br>\n",
        "3. Treatment is worse than Control<br>\n",
        "\n",
        "\n"
      ],
      "outputs" : [
      ]
    },
    {
      "cell_type" : "code",
      "execution_count" : 1,
      "metadata" : {
        "cell.metadata.exec_info" : {
          "startTs" : 1659630147864,
          "endTs" : 1659630147951
        },
        "language" : "scala"
      },
      "language" : "scala",
      "source" : [
        "// How many simulations of experiments do you want to run\n",
        "val numberOfExperimentsToRun: Int = 10000\n",
        "// What should the average value of your control or treatment be\n",
        "val rangeOfMeans: (Double, Double) = (-100, 100)\n",
        "// How many of the experiments will have a control that is the same as the treatment\n",
        "// (the remainder will be evenly split be better or worse)\n",
        "val percentNoDifference: Double = 0.5\n",
        "// How many units (or users) will be in each sample\n",
        "val unitsPerTreatment: Int = 1000"
      ],
      "outputs" : [
      ]
    },
    {
      "cell_type" : "code",
      "execution_count" : 2,
      "metadata" : {
        "cell.metadata.exec_info" : {
          "startTs" : 1659630147953,
          "endTs" : 1659630148081
        },
        "language" : "scala"
      },
      "language" : "scala",
      "source" : [
        "case class Experiment(\n",
        "    controlMean: Double, \n",
        "    controlStandardDeviation: Double, \n",
        "    treatmentMean: Double, \n",
        "    treatmentStandardDeviation: Double,\n",
        "    truth: String)\n",
        "\n",
        "// evaluates to (\n",
        "//    stat sig,\n",
        "//    expected utility greater than 50%, \n",
        "//    does the sample reflect the direction of the population\n",
        "// )\n",
        "def runAnExperiment(e: Experiment): (Boolean, Boolean, Boolean) = {\n",
        "\n",
        "    import org.apache.commons.math3.distribution.NormalDistribution\n",
        "    import org.apache.commons.math3.stat.inference.TTest\n",
        "    import org.apache.commons.math3.stat.descriptive.moment.StandardDeviation\n",
        "\n",
        "    val units = unitsPerTreatment\n",
        "\n",
        "    val controlPopulation = new NormalDistribution(e.controlMean, e.controlStandardDeviation)\n",
        "    val treatmentPopulation = new NormalDistribution(e.treatmentMean, e.treatmentStandardDeviation)\n",
        "\n",
        "    val controlSample = List.fill(units)(controlPopulation.sample())\n",
        "    val treatmentSample = List.fill(units)(treatmentPopulation.sample())\n",
        "    \n",
        "    val pValue = (new TTest()).tTest(controlSample.toArray, treatmentSample.toArray)\n",
        "\n",
        "    val controlSamplingStandardDeviation = (new StandardDeviation().evaluate(controlSample.toArray)) / Math.sqrt(units)\n",
        "    val treatmentSamplingStandardDeviation = (new StandardDeviation().evaluate(treatmentSample.toArray)) / Math.sqrt(units)\n",
        "\n",
        "    val controlSamplingDistribution = new NormalDistribution(controlSample.sum / controlSample.size, controlSamplingStandardDeviation)\n",
        "    val treatmentSamplingDistribution = new NormalDistribution(treatmentSample.sum / treatmentSample.size, treatmentSamplingStandardDeviation)\n",
        "\n",
        "    // Monte Carlo simulation for number of times control wins over treatment\n",
        "    val (controlWins, treatmentWins) = (for (i <- 0 until 10000) yield {\n",
        "        val controlSample = controlSamplingDistribution.sample() \n",
        "        val treatmentSample = treatmentSamplingDistribution.sample()\n",
        "        if (controlSample > treatmentSample) {\n",
        "            (1,0)\n",
        "        } else if (controlSample == treatmentSample) {\n",
        "            // if it's a tie, then flip a coin\n",
        "            if (scala.util.Random.nextDouble > 0.5) {\n",
        "                (1,0)\n",
        "            } else {\n",
        "                (0,1)\n",
        "            }\n",
        "        }\n",
        "        else {\n",
        "            (0,1)\n",
        "        }\n",
        "    }).foldLeft((0,0))((acc, elem) => {\n",
        "        (acc._1 + elem._1, acc._2 + elem._2)\n",
        "    })\n",
        "\n",
        "    // Convert number of wins to probability of winning\n",
        "    val pWinControl = controlWins / 100.0\n",
        "    val pWinTreatment = treatmentWins / 100.0\n",
        "\n",
        "    // We know the true population mean, was the direction of the samples correct?\n",
        "    // We want to know this to see if our p-value is in the right direction.\n",
        "    val sampleAgreesWithTruth = (\n",
        "        e.controlMean > e.treatmentMean && ((controlSample.sum / controlSample.length) > (treatmentSample.sum / treatmentSample.length)) ||\n",
        "        e.controlMean < e.treatmentMean && ((controlSample.sum / controlSample.length) < (treatmentSample.sum / treatmentSample.length))\n",
        "    )\n",
        "\n",
        "    // (bool, bool, bool)\n",
        "    (pValue <= 0.05, pWinTreatment > 50, sampleAgreesWithTruth)\n",
        "}"
      ],
      "outputs" : [
      ]
    },
    {
      "cell_type" : "code",
      "execution_count" : 3,
      "metadata" : {
        "cell.metadata.exec_info" : {
          "startTs" : 1659630148083,
          "endTs" : 1659630164276
        },
        "language" : "scala"
      },
      "language" : "scala",
      "source" : [
        "import scala.util.Random\n",
        "\n",
        "def generateExperiment() = {\n",
        "    val (lowerMean, upperMean) = rangeOfMeans\n",
        "    val controlMean = lowerMean + Random.nextDouble * (upperMean - lowerMean)\n",
        "    val controlStandardDeviation = Math.abs(controlMean * 0.005 + Random.nextDouble * (controlMean * 0.5 - controlMean * 0.005))\n",
        "    val (treatmentMean, treatmentStandardDeviation) = {\n",
        "        if (Random.nextDouble <= percentNoDifference) {\n",
        "            (controlMean, controlStandardDeviation)\n",
        "        } else {\n",
        "            val m = lowerMean + Random.nextDouble * (upperMean - lowerMean)\n",
        "            val sd = Math.abs(m * 0.005 + Random.nextDouble * (m * 0.5 - m * 0.0005))\n",
        "            (m, sd)\n",
        "        }\n",
        "    }\n",
        "\n",
        "    val truth = {\n",
        "        if (controlMean == treatmentMean && controlStandardDeviation == treatmentStandardDeviation) {\n",
        "            \"same\"\n",
        "        } else if (controlMean > treatmentMean) {\n",
        "            \"worse\"\n",
        "        } else {\n",
        "            \"better\"\n",
        "        }\n",
        "    }\n",
        "\n",
        "    Experiment(\n",
        "        controlMean,\n",
        "        controlStandardDeviation,\n",
        "        treatmentMean,\n",
        "        treatmentStandardDeviation,\n",
        "        truth\n",
        "    )\n",
        "}\n",
        "\n",
        "val experiments = List.fill(numberOfExperimentsToRun)(generateExperiment)\n",
        "\n",
        "// (stat sig times correct, EU times correct), (both correct, EU only correct, stat sig only correct)\n",
        "val timesCorrect: List[((Boolean, Boolean),(Int, Int, Int))] = for (e <- experiments) yield {\n",
        "    val (statSig, probabilistic, directionallyRepresentativeSample) = runAnExperiment(e)\n",
        "    val statSigInTheRightDirection = statSig && directionallyRepresentativeSample\n",
        "    val times = {\n",
        "        if (e.truth == \"same\") {\n",
        "            (!statSig, true)\n",
        "        } else if (e.truth == \"better\") {\n",
        "            (statSigInTheRightDirection, probabilistic)\n",
        "        } else {\n",
        "            (statSigInTheRightDirection, !probabilistic)\n",
        "        }\n",
        "    }\n",
        "\n",
        "    val comparison =\n",
        "        (\n",
        "        {\n",
        "            if ((e.truth == \"same\" && !statSig) || \n",
        "                (e.truth == \"better\" && statSigInTheRightDirection && probabilistic) || \n",
        "                (e.truth == \"worse\" && statSigInTheRightDirection && !probabilistic)) { 1 }\n",
        "            else 0\n",
        "        },\n",
        "        {\n",
        "            if ((e.truth == \"same\" && statSig) || \n",
        "                (e.truth == \"better\" && !statSig && probabilistic) || \n",
        "                (e.truth == \"worse\" && !statSig && !probabilistic)) { 1 }\n",
        "            else 0\n",
        "        },\n",
        "        {\n",
        "            if ((e.truth == \"better\" && statSigInTheRightDirection && !probabilistic) || \n",
        "                (e.truth == \"worse\" && statSigInTheRightDirection && probabilistic)) { 1 }\n",
        "            else 0\n",
        "        }\n",
        "        )\n",
        "    (times, comparison)\n",
        "}\n",
        "\n",
        "val countTimesCorrect: ((Int, Int), (Int, Int, Int)) = timesCorrect.foldLeft(((0,0), (0,0,0)))((acc, elem) => {\n",
        "        def toInt(b:Boolean) = if (b) 1 else 0\n",
        "        val (times, comparisons) = acc\n",
        "        val (bools, ints) = elem\n",
        "        ((times._1 + toInt(bools._1), times._2 + toInt(bools._2)),\n",
        "        (comparisons._1 + ints._1, comparisons._2 + ints._2, comparisons._3 + ints._3))\n",
        "    })\n",
        "\n",
        "countTimesCorrect\n"
      ],
      "outputs" : [
        {
          "execution_count" : 3,
          "data" : {
            "text/plain" : [
              "Tuple2(\n",
              "  _1 = Tuple2(\n",
              "    _1 = 9673,\n",
              "    _2 = 9984\n",
              "  ),\n",
              "  _2 = Tuple3(\n",
              "    _1 = 9673,\n",
              "    _2 = 311,\n",
              "    _3 = 0\n",
              "  )\n",
              ")"
            ]
          },
          "metadata" : {
            "name" : "Out",
            "type" : "Tuple2[Tuple2[Int, Int], Tuple3[Int, Int, Int]]"
          },
          "output_type" : "execute_result"
        }
      ]
    },
    {
      "cell_type" : "code",
      "execution_count" : 5,
      "metadata" : {
        "cell.metadata.exec_info" : {
          "startTs" : 1658339330219,
          "endTs" : 1658339330293
        },
        "language" : "vega"
      },
      "language" : "vega",
      "source" : [
        "{\n",
        "  \"$schema\": \"https://vega.github.io/schema/vega-lite/v5.json\",\n",
        "  \"description\": \"A simple bar chart with embedded data.\",\n",
        "  \"width\": 300,\n",
        "  \"data\": {\n",
        "    \"values\": [\n",
        "      {\"Per Experiment\": \"Both\", \"Correct\": countTimesCorrect._2._1}, \n",
        "      {\"Per Experiment\": \"Only EU\", \"Correct\": countTimesCorrect._2._2},\n",
        "      {\"Per Experiment\": \"Only Stat Sig\", \"Correct\": countTimesCorrect._2._3},\n",
        "    ]\n",
        "  },\n",
        "  \"mark\": {\n",
        "    \"type\": \"bar\",\n",
        "    \"width\": 50,\n",
        "    \"x\": 100,\n",
        "    \"strokeWidth\": 200\n",
        "  },\n",
        "  \"encoding\": {\n",
        "    \"x\": {\"field\": \"Per Experiment\", \"type\": \"nominal\", \"axis\": {\"labelAngle\": 0}},\n",
        "    \"y\": {\"field\": \"Correct\", \"type\": \"quantitative\"}\n",
        "  }\n",
        "}"
      ],
      "outputs" : [
        {
          "data" : {
            "text/html" : [
              "<img src=\"data:image/png;base64,iVBORw0KGgoAAAANSUhEUgAAAWsAAAD3CAYAAADblXX0AAAAAXNSR0IArs4c6QAAAERlWElmTU0AKgAAAAgAAYdpAAQAAAABAAAAGgAAAAAAA6ABAAMAAAABAAEAAKACAAQAAAABAAABa6ADAAQAAAABAAAA9wAAAACQzQa1AAAnyElEQVR4Ae2dCXhU1fnGv2AQJCqbkEpYTAxLNkoQCw1hKypFDRbFCK2NFkrR1sdYtUKDYOjTSuNaqrVqqm1k0RYsBamRUBQhC4UHcKsYhRQSFJBFE5YkEHL/9z39n3lmJjO5ZMjc3Bne8zyTuffs93cy75z57jnfjTDMIAwkQAIkQAKOJtDO0b1j50iABEiABBQBijX/EUiABEggBAhQrENgkNhFEiABEqBY83+ABEiABEKAAMU6BAaJXSQBEiCBoIp1bW2tnDp1yoNyXV2d1NfXe8R5n1RXV3tHib9yvvI2KcwIEiABEghxAkER62PHjsnGjRtl3Lhx8vrrrytEDQ0NMmPGDBk9erSkpaXJ9OnTpbGx0QNfWVmZJCUlSWZmpiQmJkppaan4K+crr0dlPCEBEiCBcCKAddatHbZs2WLMmjXL6Nu3r7Fs2TJV/dtvv22kpqa6moqPjzfWr1/vOseBKeTGqlWrVNySJUuMUaNGGf7K+crrURlPSIAESCCMCARlZn311VfL888/LykpKa7vtV27dnmcm2ItiHMP7nl0unsc8vqK13HudfGYBEiABMKJQKRdF1NTUyPt27d3Nde1a1dp187zu8I9j053j0NhX/E6TldeXFwsJSUl+lS99+jRQ8aOHesRxxMSIAEScCqBuLg4j67ZJtbJyclSVFTkavzw4cPKLu2KMA+Qp6qqSnr37i063V85X3l1Xenp6YKXe8jLyxPvi3dP5zEJkAAJOIVARUVFk654Tm2bJLdehGmvFtOWLUeOHJHy8nLZvHmzJCQkCGbOehaMPIWFhXLmzBkpKChQZhN/5Xzlbb3esiYSIAEScBaBoM+sIyIi1BX37NlTsrKyZODAgYIlfbm5ucqkgRUfGRkZcvToUcnOzpYxY8ZIfn6+REVFCVZ8wHzhq5yvvM5Cy96QAAmQQOsRiMDN0tarzrqmgwcPSocOHaRLly4q8/Hjx8VcOSJLly5V51iqV1lZKbGxsaKFHgne5RDnLy/SvAPMILNnz/aO5jkJkAAJOI4AzCDeZtugz6y9KURHR3tEYVNLTk6OKy4yMrJJJ5HoXQ5x/vIijYEESIAEwomA7WLtDS8mJkbwCofw942fhMNlyM2jB4XFdfAiSCCcCLS5WIcTzD8Xvh8Wl0OxDoth5EWEGQHbVoOEGTdeDgmQAAnYSoBibStuNkYCJEACgRGgWAfGjaVIgARIwFYCFGtbcbMxEiABEgiMAMU6MG4sRQIkQAK2EqBY24qbjZEACZBAYAQo1oFxYykSIAESsJUAxdpW3GyMBEiABAIjQLEOjBtLkQAJkICtBCjWtuJmYyRAAiQQGAGKdWDcWIoESIAEbCVAsbYVNxsjARIggcAIUKwD48ZSJEACJGArAYq1rbjZGAmQAAkERoBiHRg3liIBEiABWwlQrG3FzcZIgARIIDACFOvAuLEUCZAACdhKgGJtK242RgIkQAKBEaBYB8aNpUiABEjAVgIUa1txszESIAESCIwAxTowbixFAiRAArYSoFjbipuNkQAJkEBgBCjWgXFjKRIgARKwlQDF2lbcbIwESIAEAiNAsQ6MG0uRAAmQgK0EKNa24mZjJEACJBAYAYp1YNxYigRIgARsJUCxthU3GyMBEiCBwAjYLtZ1dXWCV3Ohurq6STLK1NfXN4n3lbdJJkaQAAmQQIgTsFWsZ86cKVlZWZKZmSk/+clPxDAMD3xlZWWSlJSk0hMTE6W0tFQaGhpkxowZMnr0aElLS5Pp06dLY2Oj+MrrURlPSIAESCCMCETadS07d+6UFStWyOHDh5UAd+7cWebPny+9e/d2dWHOnDmycOFCmTRpkixdulRwvmDBAtmxY4ds375d5evfv79s2LBBxXvn3bhxo6suHpAACZBAOBGwTawTEhJk4MCBMm7cOKmtrZX09HQPoQbUXbt2SUpKiuIbHx+vzt3jkOArXsepgvxDAiRAAmFIwDax3rt3r+zZs0euv/56OX36tBQWFgrszZhh61BTUyPt27dXp127dpV27dqJexwSfMXrOF1PcXGxlJSU6FPXe0VFheuYB/4JkJN/NkwhgbYiYJtYQ5wHDRokL7/8srrW4cOHK8GeOnWq69qTk5OlqqpKzbhhLoHdGnFFRUWuPO7x3nl1Jsza8XIPeXl5EhcX5x4VhOOtQajT/iqDz8n+a2KLJBBKBHxNmGy7wYgbhwcOHFArQXDT8NChQzJgwAA1c9az4NTUVCXgZ86ckYKCAmUSQdyWLVvkyJEjUl5eLps3bxaYVHzlDaXBYF9JgARIoCUEbJtZjxo1Solsnz59pEOHDjJ+/HgZOnSoWvGRkZEhR48elezsbBkzZozk5+dLVFSUWvHRo0cPtYIE9m7YunNzc5UpxFfellw485IACZBAKBGwTawBZeXKlUqUYYvu0qWL4jR48GCZOHGiOoYg79u3TyorKyU2NlYiIiJU/KJFiyQnJ0eJvC7nL68qwD8kQAIkEGYEbBVrsOvWrZsHQtxkhBDrEBkZ6dO2HB0drbO43v3ldWXgAQmQAAmECQHbxdqbW0xMjODFQAIkQAIk4J+AbTcY/XeBKSRAAiRAAlYEKNZWhJhOAiRAAg4gQLF2wCCwCyRAAiRgRYBibUWI6SRAAiTgAAIUawcMArtAAiRAAlYEKNZWhJhOAiRAAg4gQLF2wCCwCyRAAiRgRYBibUWI6SRAAiTgAAIUawcMArtAAiRAAlYEKNZWhJhOAiRAAg4gQLF2wCCwCyRAAiRgRYBibUWI6SRAAiTgAAIUawcMArtAAiRAAlYEKNZWhJhOAiRAAg4gQLF2wCCwCyRAAiRgRYBibUWI6SRAAiTgAAIUawcMArtAAiRAAlYEKNZWhJhOAiRAAg4gQLF2wCCwCyRAAiRgRYBibUWI6SRAAiTgAAIUawcMArtAAiRAAlYEKNZWhJhOAiRAAg4gQLF2wCCwCyRAAiRgRYBibUWI6SRAAiTgAAIUawcMArtAAiRAAlYEKNZWhJhOAiRAAg4gQLF2wCCwCyRAAiRgRYBibUWI6SRAAiTgAAIUawcMArtAAiRAAlYEbBfr06dPy8GDB5vtV3V1dZP0uro6qa+vbxLvK2+TTIwgARIggRAnYKtYP/LIIzJy5Ei5++675YYbbhAIsHsoKyuTpKQkyczMlMTERCktLZWGhgaZMWOGjB49WtLS0mT69OnS2NgovvK618VjEiABEggnApF2XczOnTtl8eLFsnv3bomIiJB169bJV199JZdffrmrC3PmzJGFCxfKpEmTZOnSpYLzBQsWyI4dO2T79u0qX//+/WXDhg0q3jvvxo0bXXXxgARIgATCiYBtM2uI9MUXXyzJyclKoDdv3uwh1IC6a9cuSUlJUXzj4+PVuXscEnzF6zhVkH9IgARIIAwJ2Daz3rdvn3z00UdSWFgoUVFRcuutt8q0adOU+GquNTU10r59e3XatWtXadeunbjHIcFXvI7T9RQXF0tJSYk+db1XVFS4jnngnwA5+WfDFBJoKwJnJdZXXHGFFBQUyJgxY1Q/YYaA2O7Zs0cJ79l0HoI6ePBgmTBhgso+duxYZQrBrFgHzLqrqqqkd+/ecvjwYWW3RlxRUZHO4hHvnVdnSk9PF7zcQ15ensTFxblHBeF4axDqtL/K4HOy/5rYIgmEEgFfE6ZmzSD33XefdOzYUfbu3SvXXnutOsb5+PHjBas6OnTocNbXP2TIEPnss8/kwIEDcuLECdm2bZuMGjVKzZz1LDg1NVXNvM+cOaO+HGASQdyWLVvkyJEjUl5eLjCfJCQkqHjM0t3znnVnmJEESIAEQoxAszNrzIRvvPFGWblypYwYMUJ69uypLg83CCdOnCiRkc0W90AxcOBAmT9/vgwbNkwuuOACmTx5srJfY8VHRkaGHD16VLKzs9XsPT8/X83YseKjR48ekpWVJShfW1srubm5yhTiK69HgzwhARIggTAiEGGYwep6nnjiCbnuuusEKzEg1BDplgi1e/0nT55Us+FLLrlERR8/flxmzZqlVn8gAkv1KisrJTY2VrWly2JtNmbyXbp00VF+87oyuB3ADDJ79my3mNY/zPjlX1u/0jao8Y2Ft7VBq2ySBEhAE4AZxNsc2awZRBfE7Bb26vfee082bdqkbMqrVq3SyS1679Spk2ihRkFsasnJyXHVgS8BdBJfCu4hOjraQ6iR5i+vezkekwAJkEA4EDgrO8a8efPksssuk169eqmNLJ07d5bbb79drZMOdIat4cXExAheDCRAAiRAAv4JWM6s9+/fr1ZoYBdhv379lO34/vvvF5gvsHaagQRIgARIIPgELGfWuKl46aWXqp2F2OaNmfRTTz2lbjb26dMn+D1kCyRAAiRAAmIp1li58dJLLym78ty5cxUymESefPJJgf2ZgQRIgARIIPgELMUaXZgyZYp6Yb3zsWPHZNy4cWp3YfC7xxZIgARIgARAwNJmjUzYJg5veMOHD1cbVLCM75133kESAwmQAAmQgA0Ezkqsb7rpJrWLEUv4ELDcburUqcpVqQ19ZBMkQAIkcN4TsBTrL774QrBA+5lnnlHmDxCD7frLL79Um1fOe4IEQAIkQAI2ELC0WWNNNbzfrV69Wm0Jh8tS+OfA2ui+ffva0EU2QQIkQAIkYCnWcGf60EMPyWOPPabMHtrBPx4KABFnIAESIAESCD4BS7GGV7t77rlHPU5r7dq1gk0yuNGIp7kwkAAJkAAJ2EPAUqyxU/EK0581/FcvW7bMnl6xFRIgARIgAQ8ClmINmzWW6i1fvlyuueYalycomEDwEFsGEiABEiCB4BOwFGt4UH3zzTdVT+AfRAc8fuvUqVP6lO8kQAIkQAJBJGAp1nBV+txzzzVZU41t6AwkQAIkQAL2ELAUazxOC2KNTTDaN4g9XWMrJEACJEACmoDl2rvu3bsrp/+/+93vBBtkGEiABEiABOwnYDmzRpc+/vhjtSEGG2H0Q3IvvPBC9bBb+7vMFkmABEjg/CNwVmKdnp7exGZ9rk+IOf9Q84pJgARIIHACZyXW+nmL27ZtUy1dddVVgbfIkiRAAiRAAi0mYGmzRo3r1q2T+Ph4GTZsmHpdeeWVogW8xS2yAAmQAAmQQIsJWM6ssd08OztbTp48qXyEoIXFixfLHXfcIVgpwiV8LWbOAiRAAiTQYgKWYr1z507B68UXX5SZM2eqBjCznjVrlnKd2r9//xY3ygIkQAIkQAItI2BpBundu7eqsbCwUD7//HP1euutt9TzF7Gsj4EESIAESCD4BCxn1l26dJFp06bJq6++KitXrnT1CG5Tu3Xr5jrnAQmQAAmQQPAIWIo1mn7llVeUjRrOnBDggW/8+PHqmH9IgARIgASCT8BSrLFc79NPP1Wz6wkTJig3qaNGjRKusw7+4LAFEiABEtAEmrVZY9UHluvBBKLDr371K+Umdc2aNTqK7yRAAiRAAkEm4Fes4RoVT4jp1auXPPjgg65uLFy4UOrr69WTYxoaGlzxPCABEiABEggeAb9ijQfj1tTUqOV67g8ZmDx5shLqQ4cOqaV7wesaayYBEiABEtAE/Io1Hi6A8OGHH+q8rvfdu3er444dO7riWnJw7Ngx+frrr/0Wqa6ubpJWV1enZvTeCb7yeufhOQmQAAmEOgG/Yt2vXz8ZNGiQWq532223yQsvvCD5+flqJcjq1aslMTFR+vbt2+LrhwllzJgx8vTTTzcpW1ZWJklJSZKZmanqLy0tFZha8IQazO7T0tLUrL6xsVF85W1SISNIgARIIEwI+F0NgifELF26VG655Rb529/+pl76mrFRZsmSJfq0Re8PPPCA4LmOvsKcOXMENnE8OR1t43zBggWyY8cO2b59uyqCHZMbNmxQ8d55N27c6KtaxpEACZBAyBPwK9a4sqFDhypf1nDaVF5ertykDhgwQGC37tSpU4sv/rXXXhN8CWBmjRuY3gF28pSUFBUNx1E4d49Dgq94HeddH89JgARIIFwINCvWuMiLLrpIPdLrXC8YYv/oo48q88Xjjz/uszrc0NS28q5duwqeoO4eh0K+4nWcrrS4uFhKSkr0qeu9oqLCdcwD/wTIyT8bppBAWxGwFOvW6hgcQR04cECwoWb//v1qZg3fIvfee6+rieTkZKmqqhKYWQ4fPqzs1ogrKipy5XGP986rM+FhCXi5h7y8PLU+3D2u9Y+3tn6VbVBjXFxcG7TKJkmABDQBXxMmvzcYdaHWeocvEdiaYeueMmWKMqXgIbyYOetZcGpqqsBhFNyyFhQUKJMI4rZs2aLcsWJ2vnnzZklISBBfeVurr6yHBEiABJxGwLaZdXR0tOCFgPfTp09Lz549BSs+MjIy1DMe4Tcb9mysOomKilImkx49ekhWVpYMHDhQamtrJTc3V5lCfOV1Glz2hwRIgARai4BtYu3e4Ycffth1OnjwYJk4caI6hyDv27dPKisrJTY2Vt2MRMKiRYskJydHPawXXgAR/OVVifxDAiRAAmFGoE3E2p0hNrVAiHWAgyhfNlM9K9f58O4vr3seHpMACZBAOBBoc7GOiYkRvBhIgARIgAT8E7DtBqP/LjCFBEiABEjAigDF2ooQ00mABEjAAQQo1g4YBHaBBEiABKwIUKytCDGdBEiABBxAgGLtgEFgF0iABEjAigDF2ooQ00mABEjAAQQo1g4YBHaBBEiABKwIUKytCDGdBEiABBxAgGLtgEFgF0iABEjAigDF2ooQ00mABEjAAQQo1g4YBHaBBEiABKwIUKytCDGdBEiABBxAgGLtgEFgF0iABEjAigDF2ooQ00mABEjAAQQo1g4YBHaBBEiABKwIUKytCDGdBEiABBxAgGLtgEFgF0iABEjAigDF2ooQ00mABEjAAQQo1g4YBHaBBEiABKwIUKytCDGdBEiABBxAgGLtgEFgF0iABEjAigDF2ooQ00mABEjAAQQo1g4YBHaBBEiABKwIUKytCDGdBEiABBxAgGLtgEFgF0iABEjAigDF2ooQ00mABEjAAQQo1g4YBHaBBEiABKwIUKytCDGdBEiABBxAgGLtgEFgF0iABEjAioDtYn3ixAnBq7lQXV3dJLmurk7q6+ubxPvK2yQTI0iABEggxAnYJtanTp2Sm2++WcaOHSt33nmnOq6trfXAV1ZWJklJSZKZmSmJiYlSWloqDQ0NMmPGDBk9erSkpaXJ9OnTpbGxUXzl9aiMJyRAAiQQRgRsE+t3331XqqqqZOvWrbJ8+XI5ePCgrFixwgPlnDlzZOHChbJ27VqZO3eu4HzTpk2yY8cO2bJli2zbtk2db9iwQaV55/WojCckQAIkEEYEbBNrzKjXr1+v0O3evVs++OADGTlypAfKXbt2SUpKioqLj48XnLvHIcFXvI7zqIwnJEACJBBGBCLtupb27dsLXgUFBfLAAw+omXFcXJxH8zU1NSoPIrt27Srt2rUT9zh/8Tqvrqy4uFhKSkr0qeu9oqLCdcwD/wTIyT8bppBAWxGwTaxxgfPmzVOmjzVr1siIESOaXHNycrIylfTu3VsOHz6s7NaIKyoqcuV1j4dZxT2vzpSeni54uYe8vDzx/nJwT2+d462tU00b1xJ8Tm18gWyeBBxOwNeEyTYzyPvvvy8vvPCCumnoLtSYOetZcGpqqhQWFsqZM2fUDBwmEcTBXn3kyBEpLy+XzZs3S0JCgor3zutw/uweCZAACQRMwLaZNVZvHDp0SLp37+7q7LPPPitDhgyRjIwMOXr0qGRnZ8uYMWMkPz9foqKi1IqPHj16SFZWlgwcOFCweiQ3N1eZSHzldVXMAxIgARIIMwK2ifVdd90leHmH48ePy8SJE1U0BHnfvn1SWVkpsbGxEhERoeIXLVokOTk50qFDB+nSpUuzeb3r5zkJkAAJhAMB28TaHyxsaoEQ6xAZGenTthwdHa2zuN795XVl4AEJkAAJhAmBNhfrmJgYwYuBBEiABEjAPwHbbjD67wJTSIAESIAErAhQrK0IMZ0ESIAEHECAYu2AQWAXSIAESMCKAMXaihDTSYAESMABBCjWDhgEdoEESIAErAhQrK0IMZ0ESIAEHECAYu2AQWAXSIAESMCKAMXaihDTSYAESMABBCjWDhgEdoEESIAErAhQrK0IMZ0ESIAEHECAYu2AQWAXSIAESMCKAMXaihDTSYAESMABBCjWDhgEdoEESIAErAhQrK0IMZ0ESIAEHECAYu2AQWAXSIAESMCKAMXaihDTSYAESMABBCjWDhgEdoEESIAErAhQrK0IMZ0ESIAEHECAYu2AQWAXSIAESMCKAMXaihDTSYAESMABBCjWDhgEdoEESIAErAhQrK0IMZ0ESIAEHECAYu2AQWAXSIAESMCKAMXaihDTSYAESMABBCjWDhgEdoEESIAErAhQrK0IMZ0ESIAEHEAg0gF9YBdIICgEPqk8EpR67a50UN/udjfJ9hxIgGLtwEFhl1qHwC/++K/WqaiNa3lj4W1t3AM27wQCNIM4YRTYBxIgARKwIBDyYl1dXW1xiUwmARIggdAnELJiXVZWJklJSZKZmSmJiYlSWloa+qPBKyABEiABPwRCVqznzJkjCxculLVr18rcuXMF5wwkQAIkEK4EQlasd+3aJSkpKWpc4uPjBecMJEACJBCuBCIMM4TixV1yySWyc+dO6d27t3z66afyne98R/bt26cupbi4WEpKSjwuq1OnTnLy5EmPOJ6QAAmQgBMJwLSbkZHh0bWQXbqXnJwsVVVVSqwPHz6s7Nb6ytLT0wWvcAx5eXkye/bscLy0kLwmjoezhi2cxyNkzSCpqalSWFgoZ86ckYKCApdJxFn/OuwNCZAACbQOgZCdWWdnZ8uYMWMkPz9foqKiBKtDGEiABEggXAmErFgPHDhQ2agrKyslNjZWIiIiwnWMeF0kQAIkICEr1hi7yMhIiYuLO6+GceTIkefV9Tr9YjkezhqhcB6PkF0N4qx/EfaGBEiABIJLIGRvMAYXC2snARIgAWcRCGkziLNQnltvsDb82LFjqpLu3bvLt771rbOu8K233lLrzC+88MKzLsOMotbnYz0+1t9jKejo0aObvffxzjvvSFpamnTo0KFZfNu2bZMvv/zSI0+vXr3km9/8ptpxixvjHTt2VOnIt3v3bvn2t7/tkT9cTurq6mTDhg1qTwQYjBo1SvDuL2CvxNdff63Gw18eHY8tInAz8Z///Ef9/2Nz3LkGLAN+44035PLLL1cLGC666CI5ceKEYEzx/9GWgTPrtqTv1vZPf/pT+etf/yr//ve/ZcmSJcrvyfbt291yeB7+6U9/kueee05F3nHHHVJTU+OZgWfNEvjtb38rEydOlM2bN8vnn3+u3BVgY9Xx48f9lsvKyhJ8mK3CI488Is8++6y8/fbbrtfHH3+simGjw8GDB11VQGzuu+8+13k4HezZs0d9CT311FNKgFevXq2+7PB/7i/AfcSiRYv8JbviMU5YvrtixQo5cOCA/PjHP5aHH35Ypbt/NlwF3A7ee+89mTFjhlvM/w5ffPFF+d73vidffPGFrFq1SgYPHqzGCp+toqKiJvltj8AORoa2J2BunTfMGYirI6aTKsMUbXX+hz/8wTB3ahrmjMR45plnDPODb1x22WWGOQM31qxZY/To0cMwhcT4xje+YYwfP94wZyauenjQlAD4XXzxxYb5ofRINMXaePTRR41XX33VmD59unHVVVcZMTExxksvvaTyYQzMD7qBsTJnWyru6aefNhYsWOBRzw033GAsXrzYI06ftG/f3jBFTJ8aK1euNMxfUa7zcDqYOnWq8fOf/9zjkjZu3GiYu48Nc8ZtmDcDVTr+b8eNG2d89dVXhim0him8xvz5840nn3xSlTV/+RimcBrmF6WrrnfffdeIjo52jQPymF8KhjnL9vhsrF+/3hgxYoQax1mzZqny5u5Aw5wxG+aXqqs+HKAPTzzxhCvOFGjD/DI3KioqDFPEVTw+o/hs4n/jzjvvVP8rrgJBPuDM2vavR/8N/vrXv5bbb79dzT6OHj0qkyZNUjNmUwwEs4Xf//73YoqJ+hmJmQRmetdee6366W7+n4j5jynmP7zaLOS/Fabs2LFDEhIS1E9ddxpjx46Vjz76SDH8xz/+IX/84x/VjBu74nQwvyTVKqR//et/DzbAryDzg6uTXe9Y/48x0i+0eb4FmA6uueYaj8vGag2YRrDkFm4iYIIyBVyOHDni8X8LpmCLgP9rmPhgHtQBJok+ffqoz8IPfvADWb58udx9992CJb3un437779ffvazn8kHH3wgmzZtEpgbH3vsMbWJ7he/+IWuTr3jFw7ihg0bJvPmzRPzS0SGDx+u+gvXFggPPvig2kH8+OOPK3MJZvV2BYq1XaTPoh1zBiDXX3+9TJs2Te3M/Mtf/iLr1q1Tdr4JEybILbfcIvhnx08ybASCvxNtp4YZBf4EsM0eHwQG/wQaGhrUB9A7B8wTmifMFVdffbX88Ic/VG4N3PPeeuut6oMK8wkciOEL0zv069dP2ahhp8arc+fOKguWm+KL1T1ccMEF7qdhc+yLM0T59OnTijP2RsBbZv/+/ZXNGe4jdMD/O2z5YAwb8pQpU3SS6x0b4SDoYGvO4OXGG28UsHT/bMCs0tjYKOYsXZk0cI8A+c1fOCqfqzLzAJMjmKvMXwRiztzVuEHgdUBZTKLwP2HOwuW6667TSba88wajLZjPrhHMQnDzSYfXX39dbrrpJsFsTgf84+FD4B30zRVfYuCd93w/v/LKK+XDDz9Utk7MnnTABxS/bBBMM4l698UTwoFxwuwPoq4FXhX4/z/4IOu63OOxgWvv3r1yxRVXqGiIUbjuFQBnTDZuvvlmFwLMoiGmcMCG4I8zbuJCfCHUpqlPzb5dlZgHsCnX19crf/bIB3fJpslKysvLXdnwpYgvUvD97ne/q74UXIleB3Bbcdddd6l7DZg94wUbOH5dYZaNgC8P97F2n+l7VReUU86sg4L13Cr973//q2bPmCljhoFVCLjJgTvluCFm2qVVA5ihMLScAFZeDBo0SGB2wpcfAn5Gm7ZJMe2Q6ry5P5gJmvcJlEBglu0r4MOP8dEvnCNg1Yn+eQ9zgGkfP6uVD77acHqcafcXTDhgWkLAaifMcGfOnKlmwFb9x5ciRNi0TQuE3z1gRUlubq7gZiGCvsHert3/JA3c9+/fr2bKy5YtUzeTkVf/qvH+7GBGjhuLMJHU1ta66tT1IQJ9gGDjCwErRLAKy85AsbaTdjNt4SchbKb458AHGh/knJwcZdpAPMQFdlaYSXr27KnuhMMu+uabbzaplVvvmyDxiABjrCLAl2CXLl2U3fPee+9VLCEM3sGdpz6GSGNFAr5MvQPyQPQxC9Mv7e4Stk7M4DGjh+BjBom2wzHcdtttarY6dOhQgVkIbPELECtxvAOYabb6HbNhmB1gFvQOMFFhGSDMEfhcwPynTSpYJYLPBsQZdaB9/NLB5wj8BwwYoEQXq3bcA7xZYsYOWziEGROj3/zmN64s+NyZN5RVnbCN44sev7zsCtzBaBfpc2wHtj7MzvAPowNuzuDDHq42T32dwXzHr5VTp0612BQBwYGNGx/eQALaxRpeu39KB9LXcy2DiQdmpFeYph+YQM42YIYLsxFuDrr/37uXx9jtMZcI4teOFnmku382wBrrpvE5wecIzDGzhtj6WjMP2zn85eOL3D3A/IhlhbhhiRk6Jk54SpX3TVT3Mq15TLFuTZqs67wgcM899yhbLOyxffv2PS+u2e6LxKz4+9//vkyePNljdmt3P7zbg10ba+PxoG58kcAUojc4eedt7XOKdWsTZX1hTwAzatz05S+a4A01ZswQRJiKnBYw/vi1ANOOnYFibSdttkUCJEACARLgDcYAwbEYCZAACdhJgGJtJ222RQIkQAIBEqBYBwiOxUggEAJYpYAXAwm0lADFuqXEmN9WAu+//75akqXX4WI5FXYG6o0WgXTGdIblUaeu23vdbSB1W5WB69shQ4ZYZTundPiHwe47eP1jCB8C9q3oDh9mvBIbCegdZ9gohE0NEOmlS5eqdbvn+pBkrI/F2l8dfDlk0mmt9Q6/Eno3Y2vV6V0PxBqbObBaBW5fGcKEgPlhYCABxxIwvdXB65FhOqpy9dHc4KBcXCICbixN/ymGuWnCMB3xGKYXNJUPbkpNYTTMLcuG6bvYVRYHpvdCVeff//53j3icmN72DHMHnPHLX/7SMLcwG+bOOAOuU00PcYbpkMmAm03EmbvijJdfflmVNzdLGKYvZOXq1Nz9ZmRnZxvm0jPlvhZlTN8ShrkD1fjkk08M0xmX6icKoo84N31bGCj30EMPGeauVXWMNkwfIqp+X9do7uxT/cS1wdWo6f9CuRVFAXNnn7o+1GlutVZ18E/oE8BOHAYScCwBLdamMyDD3Iyg/B2b28UNc6ZtmOtwDXNDgmFuPVYiZ+5GM0wHS+paIF4QefhONl2celyfFmuIGerRL3OXnWHOepX4oQ2IKeqAf+vPPvtMHeMc4grf1jiGb2zTs5s6NrdXKx/HiIev5FdeecVVBuJu7oxTbZm77VR/zHW6hmmCMUyzjqs+iDq+dFAHRN/fNZprfVUelP/Rj35kmFuoVV24BvjkRnnz4QoG+DGEBwHarM3/agbnEzBnwcrPN3wVmyKr/HrDjwM2J8CpDzywYaMK/G5gMwUC7NtwF2vOWH1eIPw/wPShX9j+Db8hBQUFaiv4P//5T+WXAi4zdUD78AQHB0wIcACln3yCLdFdu3ZV9nD0TQfYwuHbWXua0/F4h7Mu80EFyocGzp9//nmBa1wEuOT0d43acRF8OZszfOVj2ZQk1Q58ciDAf0aw7eOqIf6xhQBt1rZgZiPnSgBuNuEYHn4d4AcCwXyaiHqHwEKotEjhhiEC7NHe/h1Uwv//gQMlbGf2DhBt+DtG8N5KrB33IA8C/EWYs251rG9Uwrey+847OBbyF7RvCv2OevXOSNSn6/Z3jdq3iLvrTn9tMT60CVCsQ3v8zpvew0sdHs7gHjBz1AHe1eBRDWJ66aWXqmgIXHMBrkq3bt3qygLvbVhpAteemLmi/j//+c9K0JGG8Nprr6kHp+rZLxzWw10mnNRDOOEdEU6eTBOKq16rfrgy+jjwd41wNGQV8CQWzM79OUGyKs90ZxGgWDtrPNgbLwJ6lqzf3ZPhdhQmBjzo1HyWoTJBYKWIVdB1wbTiHlAfhBdPF4G5A8vfINLwvwyTCAKED2IO8wsergoTCmb6EEU8/gtrqGHaMO3Igien+wq6ff2OPL6OEWd1jbqcfkddcC4FF574YoF7UO/HVyEPQ+gRoG+Q0Bsz9tiLAJbC4cEBMHto84VXlnM+xeO7IMpweA/xgyN9b9/X8G+Np5/DwY+7eJ5z42YFLb1GuP80H5ysXJJqE0tr9IN1tB0Bzqzbjj1bbiUCsPFqO3YrVdlsNXj2JV7eAY+o0o+p8k471/OWXiNML926dTvXZlneQQQo1g4aDHbFuQSw4mT16tXKvODcXrJn4UyAZpBwHl1eGwmQQNgQaP52edhcJi+EBEiABEKbAMU6tMePvScBEjhPCPwfuoBbOSQOoX0AAAAASUVORK5CYII=\">"
            ]
          },
          "output_type" : "display_data"
        }
      ]
    }
  ]
}